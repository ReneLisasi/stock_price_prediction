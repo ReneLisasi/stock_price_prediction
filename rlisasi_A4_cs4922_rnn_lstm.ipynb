{
  "cells": [
    {
      "cell_type": "code",
      "execution_count": null,
      "metadata": {},
      "outputs": [],
      "source": [
        "#Author: Rene Lisasi\n",
        "#Deep Learning \n",
        "#Assignment 4\n",
        "#RNN"
      ]
    },
    {
      "cell_type": "code",
      "execution_count": null,
      "metadata": {
        "id": "o6ibgBx6fGDk"
      },
      "outputs": [],
      "source": [
        "import pandas as pd\n",
        "import numpy as np\n",
        "import matplotlib.pyplot as plt\n",
        "\n",
        "import torch\n",
        "import torch.nn as nn"
      ]
    },
    {
      "cell_type": "markdown",
      "metadata": {
        "id": "8S12Qg7IfGDk"
      },
      "source": [
        "# Question (a)\n",
        "\n",
        "In 'AMZN.csv,' daily stock opening, high, low, close, adjusted close, and trading volume are included. For this assignment, only the 'Close' column is used as the feature to predict the stock price. The data is divided into a training set, containing stock prices before January 1st, 2015, and a testing set, containing prices after that date. Implement a function to read the CSV data and split it into the training and testing setsm"
      ]
    },
    {
      "cell_type": "code",
      "execution_count": null,
      "metadata": {
        "id": "IqqM9Le1fGDl",
        "outputId": "8fe372bb-4827-49ea-cb99-811f36ecc80f"
      },
      "outputs": [
        {
          "data": {
            "text/html": [
              "<div>\n",
              "<style scoped>\n",
              "    .dataframe tbody tr th:only-of-type {\n",
              "        vertical-align: middle;\n",
              "    }\n",
              "\n",
              "    .dataframe tbody tr th {\n",
              "        vertical-align: top;\n",
              "    }\n",
              "\n",
              "    .dataframe thead th {\n",
              "        text-align: right;\n",
              "    }\n",
              "</style>\n",
              "<table border=\"1\" class=\"dataframe\">\n",
              "  <thead>\n",
              "    <tr style=\"text-align: right;\">\n",
              "      <th></th>\n",
              "      <th>Date</th>\n",
              "      <th>Close</th>\n",
              "    </tr>\n",
              "  </thead>\n",
              "  <tbody>\n",
              "    <tr>\n",
              "      <th>0</th>\n",
              "      <td>1997-05-15</td>\n",
              "      <td>0.097917</td>\n",
              "    </tr>\n",
              "    <tr>\n",
              "      <th>1</th>\n",
              "      <td>1997-05-16</td>\n",
              "      <td>0.086458</td>\n",
              "    </tr>\n",
              "    <tr>\n",
              "      <th>2</th>\n",
              "      <td>1997-05-19</td>\n",
              "      <td>0.085417</td>\n",
              "    </tr>\n",
              "  </tbody>\n",
              "</table>\n",
              "</div>"
            ],
            "text/plain": [
              "         Date     Close\n",
              "0  1997-05-15  0.097917\n",
              "1  1997-05-16  0.086458\n",
              "2  1997-05-19  0.085417"
            ]
          },
          "execution_count": 2,
          "metadata": {},
          "output_type": "execute_result"
        }
      ],
      "source": [
        "data = pd.read_csv('AMZN.csv')\n",
        "data = data[['Date', 'Close']]\n",
        "data.head(3)"
      ]
    },
    {
      "cell_type": "code",
      "execution_count": null,
      "metadata": {
        "id": "BZcX-zEnfGDl",
        "outputId": "073aced5-fc5d-4447-fb73-1846ec9df2bd"
      },
      "outputs": [
        {
          "data": {
            "text/plain": [
              "19970515.0"
            ]
          },
          "execution_count": 3,
          "metadata": {},
          "output_type": "execute_result"
        }
      ],
      "source": [
        "time = data.iloc[:,0].str.replace(\"-\",\"\")\n",
        "data.iloc[:,0]=time.astype(float)\n",
        "data.iloc[0,0]"
      ]
    },
    {
      "cell_type": "code",
      "execution_count": null,
      "metadata": {
        "id": "R2-9NopHfGDl",
        "outputId": "19593e10-2cbe-46da-dfd4-f1a408f7ab4c"
      },
      "outputs": [
        {
          "data": {
            "text/html": [
              "<div>\n",
              "<style scoped>\n",
              "    .dataframe tbody tr th:only-of-type {\n",
              "        vertical-align: middle;\n",
              "    }\n",
              "\n",
              "    .dataframe tbody tr th {\n",
              "        vertical-align: top;\n",
              "    }\n",
              "\n",
              "    .dataframe thead th {\n",
              "        text-align: right;\n",
              "    }\n",
              "</style>\n",
              "<table border=\"1\" class=\"dataframe\">\n",
              "  <thead>\n",
              "    <tr style=\"text-align: right;\">\n",
              "      <th></th>\n",
              "      <th>Date</th>\n",
              "      <th>Close</th>\n",
              "    </tr>\n",
              "  </thead>\n",
              "  <tbody>\n",
              "    <tr>\n",
              "      <th>0</th>\n",
              "      <td>19970515.0</td>\n",
              "      <td>0.097917</td>\n",
              "    </tr>\n",
              "    <tr>\n",
              "      <th>1</th>\n",
              "      <td>19970516.0</td>\n",
              "      <td>0.086458</td>\n",
              "    </tr>\n",
              "    <tr>\n",
              "      <th>2</th>\n",
              "      <td>19970519.0</td>\n",
              "      <td>0.085417</td>\n",
              "    </tr>\n",
              "    <tr>\n",
              "      <th>3</th>\n",
              "      <td>19970520.0</td>\n",
              "      <td>0.081771</td>\n",
              "    </tr>\n",
              "    <tr>\n",
              "      <th>4</th>\n",
              "      <td>19970521.0</td>\n",
              "      <td>0.071354</td>\n",
              "    </tr>\n",
              "    <tr>\n",
              "      <th>...</th>\n",
              "      <td>...</td>\n",
              "      <td>...</td>\n",
              "    </tr>\n",
              "    <tr>\n",
              "      <th>4432</th>\n",
              "      <td>20141224.0</td>\n",
              "      <td>15.151500</td>\n",
              "    </tr>\n",
              "    <tr>\n",
              "      <th>4433</th>\n",
              "      <td>20141226.0</td>\n",
              "      <td>15.454500</td>\n",
              "    </tr>\n",
              "    <tr>\n",
              "      <th>4434</th>\n",
              "      <td>20141229.0</td>\n",
              "      <td>15.602000</td>\n",
              "    </tr>\n",
              "    <tr>\n",
              "      <th>4435</th>\n",
              "      <td>20141230.0</td>\n",
              "      <td>15.515000</td>\n",
              "    </tr>\n",
              "    <tr>\n",
              "      <th>4436</th>\n",
              "      <td>20141231.0</td>\n",
              "      <td>15.517500</td>\n",
              "    </tr>\n",
              "  </tbody>\n",
              "</table>\n",
              "<p>4437 rows × 2 columns</p>\n",
              "</div>"
            ],
            "text/plain": [
              "            Date      Close\n",
              "0     19970515.0   0.097917\n",
              "1     19970516.0   0.086458\n",
              "2     19970519.0   0.085417\n",
              "3     19970520.0   0.081771\n",
              "4     19970521.0   0.071354\n",
              "...          ...        ...\n",
              "4432  20141224.0  15.151500\n",
              "4433  20141226.0  15.454500\n",
              "4434  20141229.0  15.602000\n",
              "4435  20141230.0  15.515000\n",
              "4436  20141231.0  15.517500\n",
              "\n",
              "[4437 rows x 2 columns]"
            ]
          },
          "execution_count": 4,
          "metadata": {},
          "output_type": "execute_result"
        }
      ],
      "source": [
        "def split_data(data,split_point):\n",
        "    start=np.where(data.iloc[:,0]<split_point)\n",
        "    end=np.where(data.iloc[:,0]>=split_point)\n",
        "\n",
        "    training_data=(data.iloc[start])\n",
        "    testing_data=(data.iloc[end])\n",
        "\n",
        "    #Split data\n",
        "    return training_data, testing_data\n",
        "\n",
        "training_data,testing_data=split_data(data,20150101)\n",
        "training_data"
      ]
    },
    {
      "cell_type": "markdown",
      "metadata": {
        "id": "vJVKgaDafGDl"
      },
      "source": [
        "# Question (b)\n",
        "Utilizing only the 'Close' column is inadequate for predicting future stock prices. Create new features by 'shifting' the current day's stock price and the previous T days' stock prices, generating new feature columns (where T ∈ [3, 10]). For instance, if T = 3, each sample will have the close prices at T-3, T-2, T-1, and T time points as features. Additionally, the stock price at T+1 time point will be used as the label."
      ]
    },
    {
      "cell_type": "code",
      "execution_count": null,
      "metadata": {
        "id": "EtGB7u5WfGDm",
        "outputId": "49364739-1a96-4138-84c7-b087e101a177"
      },
      "outputs": [
        {
          "name": "stdout",
          "output_type": "stream",
          "text": [
            "            T+1        T-0        T-1        T-2        T-3        T-4\n",
            "4      0.075000   0.097917   0.086458   0.085417   0.081771   0.071354\n",
            "5      0.079167   0.086458   0.085417   0.081771   0.071354   0.069792\n",
            "6      0.076563   0.085417   0.081771   0.071354   0.069792   0.075000\n",
            "7      0.075260   0.081771   0.071354   0.069792   0.075000   0.079167\n",
            "8      0.075000   0.071354   0.069792   0.075000   0.079167   0.076563\n",
            "...         ...        ...        ...        ...        ...        ...\n",
            "4430  15.151500  14.753000  14.944000  14.886500  14.995000  15.327000\n",
            "4431  15.454500  14.944000  14.886500  14.995000  15.327000  15.314500\n",
            "4432  15.602000  14.886500  14.995000  15.327000  15.314500  15.151500\n",
            "4433  15.515000  14.995000  15.327000  15.314500  15.151500  15.454500\n",
            "4434  15.517500  15.327000  15.314500  15.151500  15.454500  15.602000\n",
            "\n",
            "[4431 rows x 6 columns]\n",
            "             T+1        T-0         T-1         T-2         T-3         T-4\n",
            "4441   14.570500  15.426000   15.109500   14.764500   14.921000   15.023000\n",
            "4442   14.737000  15.109500   14.764500   14.921000   15.023000   14.846500\n",
            "4443   14.663500  14.764500   14.921000   15.023000   14.846500   14.570500\n",
            "4444   14.347500  14.921000   15.023000   14.846500   14.570500   14.737000\n",
            "4445   14.537000  15.023000   14.846500   14.570500   14.737000   14.663500\n",
            "...          ...        ...         ...         ...         ...         ...\n",
            "6509  102.000000  98.699997   98.709999   98.129997   98.040001   97.239998\n",
            "6510  103.290001  98.709999   98.129997   98.040001   97.239998  100.250000\n",
            "6511  102.410004  98.129997   98.040001   97.239998  100.250000  102.000000\n",
            "6512  103.949997  98.040001   97.239998  100.250000  102.000000  103.290001\n",
            "6513  101.099998  97.239998  100.250000  102.000000  103.290001  102.410004\n",
            "\n",
            "[2073 rows x 6 columns]\n",
            "[0.097917 0.086458 0.085417 0.081771 0.071354]\n",
            "0.075\n"
          ]
        }
      ],
      "source": [
        "def feature_engeering(data_df,timestep):\n",
        "    data_df2=data_df.copy()\n",
        "    if len(data_df2)>=timesteps:\n",
        "        for step in range(timestep):\n",
        "            data_df2[f'T-{timesteps-step-1}']=data_df2['Close'].shift(step)\n",
        "        data_df2['T+1']=data_df2['Close'].shift(-2)\n",
        "        data_df2=data_df2.drop('Close',axis=1)\n",
        "        data_df2=data_df2.drop('Date',axis=1)\n",
        "        data_df2=data_df2.dropna()\n",
        "        data_df2=data_df2.iloc[:,::-1]\n",
        "        print(data_df2)\n",
        "        labels=data_df2['T+1'].values\n",
        "        data_df2=data_df2.drop(['T+1'],axis=1)\n",
        "        features=data_df2.values\n",
        "        return features,labels\n",
        "\n",
        "timesteps=5\n",
        "X_train,y_train = feature_engeering(training_data,timesteps)\n",
        "X_test,y_test = feature_engeering(testing_data,timesteps)\n",
        "\n",
        "\n",
        "print(X_train[0])\n",
        "print(y_train[0])"
      ]
    },
    {
      "cell_type": "code",
      "execution_count": null,
      "metadata": {
        "id": "DH0ImC5vfGDm",
        "outputId": "daa843f0-03c3-4741-d169-f04160cea5a2"
      },
      "outputs": [
        {
          "name": "stdout",
          "output_type": "stream",
          "text": [
            "y [[ 0.075   ]\n",
            " [ 0.079167]\n",
            " [ 0.076563]\n",
            " ...\n",
            " [15.602   ]\n",
            " [15.515   ]\n",
            " [15.5175  ]]\n",
            "(2072, 5, 1)\n",
            "(2073, 1)\n"
          ]
        }
      ],
      "source": [
        "#reshaping to match the rnn/lstm shape requirement\n",
        "X_train=np.expand_dims(X_train,axis=2)\n",
        "y_train=np.expand_dims(y_train,axis=1)\n",
        "X_test=np.expand_dims(X_test,axis=2)\n",
        "y_test=np.expand_dims(y_test,axis=1)\n",
        "#remove last rows from features to match label shape\n",
        "X_train=np.delete(X_train,[-1],axis=0)\n",
        "X_test=np.delete(X_test,[-1],axis=0)\n",
        "#print(X_train)\n",
        "print('y',y_train)\n",
        "print(X_test.shape)\n",
        "print(y_test.shape)"
      ]
    },
    {
      "cell_type": "code",
      "execution_count": null,
      "metadata": {
        "id": "6_v4H9B8fGDm",
        "outputId": "2cde7c54-b804-4a9c-b47c-4236c9e4be21"
      },
      "outputs": [
        {
          "data": {
            "text/plain": [
              "(tensor([[14.9950],\n",
              "         [15.3270],\n",
              "         [15.3145],\n",
              "         [15.1515],\n",
              "         [15.4545]]),\n",
              " array([15.5175]))"
            ]
          },
          "execution_count": 9,
          "metadata": {},
          "output_type": "execute_result"
        }
      ],
      "source": [
        "from torch.utils.data import Dataset\n",
        "\n",
        "class TimeSeriesDataset(Dataset):\n",
        "    def __init__(self, X, y):\n",
        "        self.X = X\n",
        "        self.y = y\n",
        "\n",
        "    def __len__(self):\n",
        "        return len(self.X)\n",
        "\n",
        "    def __getitem__(self, i):\n",
        "        return self.X[i], self.y[i]\n",
        "\n",
        "\n",
        "train_dataset = TimeSeriesDataset(torch.tensor(X_train).float(), y_train)\n",
        "test_dataset = TimeSeriesDataset(torch.tensor(X_test).float(), y_test)\n",
        "train_dataset.__getitem__(-1)\n",
        "#y_test.iloc[-1]"
      ]
    },
    {
      "cell_type": "markdown",
      "metadata": {
        "id": "b4Z2Oj4cfGDm"
      },
      "source": [
        "# Question (c)\n",
        "Construct a stacked RNN model for stock price prediction. Train the model using mean squared error as the objective function. Define the number of hidden layers and RNN layers in your implementation."
      ]
    },
    {
      "cell_type": "code",
      "execution_count": null,
      "metadata": {
        "id": "TrZTDUBTfGDm",
        "outputId": "6882e02a-3b1c-4e64-fbb2-9c3e06279061"
      },
      "outputs": [
        {
          "name": "stdout",
          "output_type": "stream",
          "text": [
            "Stock batch dimensions: torch.Size([32, 5, 1])\n",
            "Stock label dimensions: torch.Size([32, 1])\n"
          ]
        }
      ],
      "source": [
        "#batching and dataloading\n",
        "from torch.utils.data import DataLoader\n",
        "\n",
        "batch_size=32\n",
        "\n",
        "train_loader = DataLoader(train_dataset,batch_size=batch_size,shuffle=True)\n",
        "test_loader = DataLoader(test_dataset,batch_size=batch_size,shuffle=False)\n",
        "\n",
        "# Checking the dataset\n",
        "for features, labels in test_loader:\n",
        "    print('Stock batch dimensions:', features.shape)\n",
        "    print('Stock label dimensions:', labels.shape)\n",
        "    break"
      ]
    },
    {
      "cell_type": "code",
      "execution_count": null,
      "metadata": {
        "id": "RnaKdOvcfGDm",
        "outputId": "17270f50-814b-4b55-e997-bc8b2b998a8e"
      },
      "outputs": [
        {
          "data": {
            "text/plain": [
              "RNN_model(\n",
              "  (batch_norm): BatchNorm1d(5, eps=1e-05, momentum=0.1, affine=True, track_running_stats=True)\n",
              "  (rnn): RNN(1, 5, num_layers=2)\n",
              "  (fc): Linear(in_features=5, out_features=2, bias=True)\n",
              ")"
            ]
          },
          "execution_count": 11,
          "metadata": {},
          "output_type": "execute_result"
        }
      ],
      "source": [
        "class RNN_model(nn.Module):\n",
        "    def __init__(self, input_size, hidden_size, num_layers):\n",
        "        super(RNN_model,self).__init__()\n",
        "        #others\n",
        "        self.batch_norm=torch.nn.BatchNorm1d(num_features=timesteps)\n",
        "        #model\n",
        "        self.input_size=input_size\n",
        "        self.hidden_size=hidden_size\n",
        "        self.num_layers=num_layers\n",
        "        self.rnn=torch.nn.RNN(input_size=input_size,hidden_size=hidden_size,num_layers=num_layers,nonlinearity='relu')\n",
        "        self.fc = nn.Linear(hidden_size, num_layers)\n",
        "        # self.tanh=torch.nn.Tanh()\n",
        "\n",
        "    def forward(self, x):\n",
        "        #x=self.batch_norm(x)\n",
        "        hx=torch.zeros(self.num_layers,x.size(1),self.hidden_size)\n",
        "        #print(x.type())\n",
        "        x,hx=self.rnn(x,hx)\n",
        "        #print(x.type(),hx.type())\n",
        "        x=x[:,-1,:]\n",
        "        #print(x.type())\n",
        "        x=self.fc(x)\n",
        "        #print(x.type())\n",
        "        # x=self.tanh(x)\n",
        "        return x\n",
        "\n",
        "    # Initialize the RNN.\n",
        "\n",
        "# input size : (batch, seq_len, input_size)\n",
        "# out shape = (batch, seq_len, num_directions * hidden_size)\n",
        "# h_n shape  = (num_layers * num_directions, batch, hidden_size)\n",
        "\n",
        "model = RNN_model(1,timesteps,2)\n",
        "model"
      ]
    },
    {
      "cell_type": "code",
      "execution_count": null,
      "metadata": {
        "id": "aHXF6AJIfGDm",
        "outputId": "542ba6cc-30ff-4972-ef10-fa1dec9be400"
      },
      "outputs": [
        {
          "data": {
            "text/plain": [
              "[0.15678773820400238]"
            ]
          },
          "execution_count": 13,
          "metadata": {},
          "output_type": "execute_result"
        }
      ],
      "source": [
        "torch.manual_seed(1)\n",
        "learning_rate = 0.1\n",
        "\n",
        "loss_function = nn.MSELoss()\n",
        "optimizer = torch.optim.Adam(model.parameters(), lr=learning_rate)\n",
        "#optimizer = torch.optim.Adam(sample_model.parameters(), lr=1e-3, weight_decay=1e-5)\n",
        "\n",
        "def train_one_epoch():\n",
        "    training_cost=[]\n",
        "    for batch_idx, (features, targets) in enumerate(train_loader):\n",
        "        #features.unsqueeze(2)\n",
        "        features=features.to(dtype=torch.float32)\n",
        "        targets=targets.to(dtype=torch.float32)\n",
        "        #print(features.shape,targets.shape)\n",
        "        output=model(features)\n",
        "        cost=loss_function(output, targets)\n",
        "        cost=cost.to(dtype=torch.float32)\n",
        "        #print(cost.dtype)\n",
        "        optimizer.zero_grad()\n",
        "        cost.backward()\n",
        "        optimizer.step()\n",
        "        #print(cost)\n",
        "    training_cost.append(cost.item())\n",
        "    return training_cost\n",
        "\n",
        "def test_one_epoch():\n",
        "    test_loss=[]\n",
        "    predicted=[]\n",
        "    targets=[]\n",
        "    for batch_idx,(data, target) in enumerate(test_loader):\n",
        "        data=data.to(dtype=torch.float32)\n",
        "        target=target.to(dtype=torch.float32)\n",
        "        output= model(data)\n",
        "        loss = loss_function(output, target)\n",
        "        test_loss.append(loss.item())\n",
        "        #print('pred',output)\n",
        "        #print('targ',target)\n",
        "\n",
        "        targets.append(target)\n",
        "        predicted.append(output)\n",
        "    return test_loss, predicted,targets\n",
        "\n",
        "sample_loss=train_one_epoch()\n",
        "sample_loss"
      ]
    },
    {
      "cell_type": "code",
      "execution_count": null,
      "metadata": {
        "id": "z4qSx1xMfGDm",
        "outputId": "cbf98a98-54ee-4c87-a62f-2ef00e7d219b"
      },
      "outputs": [
        {
          "data": {
            "text/plain": [
              "[0.05522087588906288]"
            ]
          },
          "execution_count": 14,
          "metadata": {},
          "output_type": "execute_result"
        }
      ],
      "source": [
        "num_epochs = 10\n",
        "for epoch in range(num_epochs):\n",
        "    sample_loss=train_one_epoch()\n",
        "sample_loss"
      ]
    },
    {
      "cell_type": "code",
      "execution_count": null,
      "metadata": {
        "id": "UZQi-_SOfGDm",
        "outputId": "96c42e9d-33f1-43e6-c3c9-6ea19794e7a5"
      },
      "outputs": [
        {
          "name": "stdout",
          "output_type": "stream",
          "text": [
            "tensor([21.3475])\n",
            "tensor([21.9640, 21.9639])\n"
          ]
        },
        {
          "name": "stderr",
          "output_type": "stream",
          "text": [
            "/opt/homebrew/lib/python3.11/site-packages/torch/nn/modules/loss.py:535: UserWarning: Using a target size (torch.Size([24, 1])) that is different to the input size (torch.Size([24, 2])). This will likely lead to incorrect results due to broadcasting. Please ensure they have the same size.\n",
            "  return F.mse_loss(input, target, reduction=self.reduction)\n"
          ]
        }
      ],
      "source": [
        "_,predicted_rnn,targs=test_one_epoch()\n",
        "predicted_rnn=torch.cat(predicted_rnn,dim=0)\n",
        "predicted_rnn=predicted_rnn.detach()\n",
        "targs=torch.cat(targs,dim=0)\n",
        "print(targs[100])\n",
        "print(predicted_rnn[100])"
      ]
    },
    {
      "cell_type": "code",
      "execution_count": null,
      "metadata": {
        "id": "e2I67IRnfGDn",
        "outputId": "936810c9-42e0-4cec-dbb7-d98c7074109e"
      },
      "outputs": [
        {
          "name": "stdout",
          "output_type": "stream",
          "text": [
            "2072\n",
            "2072\n"
          ]
        }
      ],
      "source": [
        "print(len(predicted_rnn))\n",
        "print(len(targs))"
      ]
    },
    {
      "cell_type": "markdown",
      "metadata": {
        "id": "OUw9l3F9fGDn"
      },
      "source": [
        "# Question (e)\n",
        "Evaluate the prediction results using mean squared error and depict the approximation curve, showcasing predicted stocks alongside actual stocks on the testing set"
      ]
    },
    {
      "cell_type": "code",
      "execution_count": null,
      "metadata": {
        "id": "IPiVBGDcfGDn",
        "outputId": "e7e87da4-d99e-4d7b-80cf-a093a88fe2e5"
      },
      "outputs": [
        {
          "data": {
            "image/png": "[encoded data removed]",
            "text/plain": [
              "<Figure size 640x480 with 1 Axes>"
            ]
          },
          "metadata": {},
          "output_type": "display_data"
        }
      ],
      "source": [
        "plt.plot(targs, label='Actual Close')\n",
        "plt.plot(predicted_rnn, label='Predicted Close')\n",
        "plt.xlabel('Day')\n",
        "plt.ylabel('Close')\n",
        "plt.legend()\n",
        "plt.show()\n"
      ]
    },
    {
      "cell_type": "markdown",
      "metadata": {
        "id": "SPhs-F0ZfGDn"
      },
      "source": [
        "# Question (f)\n",
        "Develop a stacked LSTM model for stock prediction. Train the model using mean squared error as the objective function. Define the number of hidden layers and LSTM layers in your implementation. Visualize the predicted stocks using LSTM and RNN in a single figure and provide an explanation of which model performs better and why."
      ]
    },
    {
      "cell_type": "code",
      "execution_count": null,
      "metadata": {
        "id": "ljLqrqwsfGDn",
        "outputId": "bda8e9fe-3fc6-4e9d-ab02-76ec192863f6"
      },
      "outputs": [
        {
          "data": {
            "text/plain": [
              "LSTM_model(\n",
              "  (batch_norm): BatchNorm1d(5, eps=1e-05, momentum=0.1, affine=True, track_running_stats=True)\n",
              "  (batch_norm1): BatchNorm1d(50, eps=1e-05, momentum=0.1, affine=True, track_running_stats=True)\n",
              "  (LSTM): LSTM(1, 50, num_layers=2)\n",
              "  (fc): Linear(in_features=50, out_features=1, bias=True)\n",
              "  (relu): ReLU()\n",
              ")"
            ]
          },
          "execution_count": 24,
          "metadata": {},
          "output_type": "execute_result"
        }
      ],
      "source": [
        "class LSTM_model(nn.Module):\n",
        "    def __init__(self, input_size, hidden_size,output_size, num_layers):\n",
        "        super(LSTM_model,self).__init__()\n",
        "        #others\n",
        "        s#elf.batch_norm=torch.nn.BatchNorm1d(num_features=timesteps)\n",
        "        #self.batch_norm1=torch.nn.BatchNorm1d(num_features=50)\n",
        "        #model\n",
        "        self.input_size=input_size\n",
        "        self.hidden_size=hidden_size\n",
        "        self.output_size=output_size\n",
        "        self.num_layers=num_layers\n",
        "        self.LSTM=torch.nn.LSTM(input_size=input_size,hidden_size=hidden_size,num_layers=num_layers)\n",
        "        # self.LSTM1=torch.nn.LSTM(input_size=hidden_size,hidden_size=hidden_size,num_layers=num_layers)\n",
        "        self.fc = torch.nn.Linear(hidden_size, output_size)\n",
        "        self.relu=torch.nn.ReLU()\n",
        "\n",
        "    def forward(self, x):\n",
        "        #x=self.batch_norm(x)\n",
        "        hx=torch.zeros(self.num_layers,x.size(1),self.hidden_size)\n",
        "        cx=torch.zeros(self.num_layers,x.size(1),self.hidden_size)\n",
        "        #print(x.type())\n",
        "\n",
        "        x,(hx,cx)=self.LSTM(x)\n",
        "        # x,(hx,cx)=self.LSTM1(x,(hx,cx))\n",
        "        x=x[:,-1,:]\n",
        "        #print(x.shape)\n",
        "        x=self.fc(x)\n",
        "        x=self.relu(x)\n",
        "\n",
        "        #print(x.type())\n",
        "        # x=self.tanh(x)\n",
        "        return x\n",
        "\n",
        "model = LSTM_model(1,50,1,2)\n",
        "model"
      ]
    },
    {
      "cell_type": "code",
      "execution_count": null,
      "metadata": {
        "id": "NHCn0wc6fGDn",
        "outputId": "880da503-74f1-4774-84b4-9d3c9c79ed73"
      },
      "outputs": [
        {
          "data": {
            "text/plain": [
              "[0.37567076086997986]"
            ]
          },
          "execution_count": 25,
          "metadata": {},
          "output_type": "execute_result"
        }
      ],
      "source": [
        "torch.manual_seed(1)\n",
        "learning_rate = 0.01\n",
        "\n",
        "loss_function_lstm = nn.MSELoss()\n",
        "optimizer_lstm = torch.optim.Adam(model.parameters(), lr=learning_rate)\n",
        "\n",
        "def train_one_epoch_lstm():\n",
        "    training_cost=[]\n",
        "    for batch_idx, (features, targets) in enumerate(train_loader):\n",
        "        #features.unsqueeze(2)\n",
        "        optimizer_lstm.zero_grad()\n",
        "        features=features.to(dtype=torch.float32)\n",
        "        targets=targets.to(dtype=torch.float32)\n",
        "        #print(features.shape,targets.shape)\n",
        "        output=model(features)\n",
        "        cost=loss_function_lstm(output, targets)\n",
        "        cost=cost.to(dtype=torch.float32)\n",
        "        #print(cost.dtype)\n",
        "        cost.backward()\n",
        "        optimizer_lstm.step()\n",
        "        #print(cost)\n",
        "    training_cost.append(cost.item())\n",
        "    return training_cost\n",
        "\n",
        "def test_one_epoch_lstm():\n",
        "    test_loss=[]\n",
        "    predicted=[]\n",
        "    targets=[]\n",
        "    for batch_idx,(data, target) in enumerate(test_loader):\n",
        "        data=data.to(dtype=torch.float32)\n",
        "        target=target.to(dtype=torch.float32)\n",
        "        output = model(data)\n",
        "        loss = loss_function(output, target)\n",
        "        test_loss.append(loss.item())\n",
        "        targets.append(target)\n",
        "        predicted.append(output)\n",
        "    return test_loss, predicted,targets\n",
        "\n",
        "sample_loss=train_one_epoch_lstm()\n",
        "sample_loss"
      ]
    },
    {
      "cell_type": "code",
      "execution_count": null,
      "metadata": {
        "id": "V7NH7_cpfGDn",
        "outputId": "47796289-0373-4135-cfb3-05a84c939f03"
      },
      "outputs": [
        {
          "data": {
            "text/plain": [
              "[0.01032504253089428]"
            ]
          },
          "execution_count": 26,
          "metadata": {},
          "output_type": "execute_result"
        }
      ],
      "source": [
        "num_epochs = 10\n",
        "for epoch in range(num_epochs):\n",
        "    sample_loss=train_one_epoch_lstm()\n",
        "sample_loss"
      ]
    },
    {
      "cell_type": "code",
      "execution_count": null,
      "metadata": {
        "id": "Ow1K-FYRfGDn",
        "outputId": "0676d17c-c3a4-459a-ff45-835e469ddc30"
      },
      "outputs": [
        {
          "name": "stdout",
          "output_type": "stream",
          "text": [
            "2072\n",
            "2072\n"
          ]
        }
      ],
      "source": [
        "_,predicted_lstm,targs=test_one_epoch_lstm()\n",
        "predicted_lstm=torch.cat(predicted_lstm,dim=0)\n",
        "predicted_lstm=predicted_lstm.detach()\n",
        "targs=torch.cat(targs,dim=0)\n",
        "print(len(targs))\n",
        "print(len(predicted_lstm))\n"
      ]
    },
    {
      "cell_type": "code",
      "execution_count": null,
      "metadata": {
        "id": "3dsCA3BofGDn",
        "outputId": "a93d6ac8-5553-4058-bbf7-3febf1d27d97"
      },
      "outputs": [
        {
          "name": "stdout",
          "output_type": "stream",
          "text": [
            "tensor([15.3906])\n",
            "2072\n"
          ]
        }
      ],
      "source": [
        "print(predicted_lstm[0])\n",
        "print(len(targs))"
      ]
    },
    {
      "cell_type": "code",
      "execution_count": null,
      "metadata": {
        "id": "mCRIf0O8fGDn",
        "outputId": "cd02bfc5-9395-496a-a7db-54fd696d1df1"
      },
      "outputs": [
        {
          "data": {
            "image/png": "[encoded data removed]",
            "text/plain": [
              "<Figure size 640x480 with 1 Axes>"
            ]
          },
          "metadata": {},
          "output_type": "display_data"
        }
      ],
      "source": [
        "# PLOT\n",
        "plt.plot(targs, label='Actual Close')\n",
        "plt.plot(predicted_rnn, label='Predicted RNN')\n",
        "plt.plot(predicted_lstm, label='Predicted LSTM')\n",
        "plt.xlabel('Day')\n",
        "plt.ylabel('Close')\n",
        "plt.legend()\n",
        "plt.show()\n"
      ]
    }
  ],
  "metadata": {
    "colab": {
      "provenance": []
    },
    "kernelspec": {
      "display_name": "torch",
      "language": "python",
      "name": "python3"
    },
    "language_info": {
      "codemirror_mode": {
        "name": "ipython",
        "version": 3
      },
      "file_extension": ".py",
      "mimetype": "text/x-python",
      "name": "python",
      "nbconvert_exporter": "python",
      "pygments_lexer": "ipython3",
      "version": "3.11.5"
    }
  },
  "nbformat": 4,
  "nbformat_minor": 0
}
